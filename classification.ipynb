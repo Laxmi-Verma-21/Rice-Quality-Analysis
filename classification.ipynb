{
 "cells": [
  {
   "cell_type": "code",
   "execution_count": 1,
   "id": "e2b99ad4",
   "metadata": {},
   "outputs": [],
   "source": [
    "import os \n",
    "import random\n",
    "import numpy as np\n",
    "import cv2\n",
    "from glob import glob\n",
    "from sklearn.utils import shuffle \n",
    "from sklearn.model_selection import train_test_split\n",
    "from patchify import patchify\n",
    "import tensorflow as tf"
   ]
  },
  {
   "cell_type": "code",
   "execution_count": 2,
   "id": "126e0fe9",
   "metadata": {},
   "outputs": [],
   "source": [
    "hp={}\n",
    "hp[\"image_size\"]=224\n",
    "hp[\"num_channels\"]=3\n",
    "hp[\"patch_size\"]=16\n",
    "hp[\"num_patches\"]=(hp[\"image_size\"]**2)// (hp[\"patch_size\"]**2)\n",
    "hp[\"flat_patches_shape\"]=(hp[\"num_patches\"],hp[\"patch_size\"]*hp[\"patch_size\"]*hp[\"num_channels\"])\n",
    "\n",
    "\n",
    "hp[\"batch_size\"]=2\n",
    "hp[\"lr\"] =1e-4\n",
    "hp[\"num_epochs\"]=5\n",
    "hp[\"num_classes\"]=2\n",
    "hp[\"class_names\"]=[\"Control Rice\",\"HMT RICE\"]\n",
    "\n"
   ]
  },
  {
   "cell_type": "markdown",
   "id": "44dc9b90",
   "metadata": {},
   "source": [
    "* input image: 224X224x3\n",
    "* patch size: 16x16\n",
    "* Number of patches(N):=(224x224)/(16x16)\n",
    "=196\n",
    "* tranfromed input =(256,16x16x3) =256,768"
   ]
  },
  {
   "cell_type": "code",
   "execution_count": 3,
   "id": "b7d6714d",
   "metadata": {},
   "outputs": [],
   "source": [
    " def create_dir(path):\n",
    "        if not os.path.exists(path):\n",
    "            os.makedirs(path)\n",
    "            "
   ]
  },
  {
   "cell_type": "code",
   "execution_count": 7,
   "id": "103b453f",
   "metadata": {},
   "outputs": [],
   "source": [
    "def load_data(path,split=0.1):\n",
    "\n",
    "    train_img=[]\n",
    "    test_img=[]\n",
    "    val_img=[]\n",
    "    for rice_type in os.listdir(path):\n",
    "        images=glob(os.path.join(path,rice_type,\"*.jpg\"))\n",
    "        split_size=int(len(images)*split)\n",
    "        X_train,X_test=train_test_split(images,test_size=split_size,random_state=42)\n",
    "        val_size=int(len(X_train)*split)\n",
    "        X_train,X_val=train_test_split(X_train,test_size=val_size,random_state=42)\n",
    "        train_img.append(X_train)\n",
    "        test_img.append(X_test)\n",
    "        val_img.append(X_val)\n",
    "    X_train=[img for ele in train_img for img in ele]\n",
    "    X_val=[img for ele in val_img for img in ele]\n",
    "    X_test=[img for ele in test_img for img in ele]\n",
    "    \n",
    "    random.shuffle(X_train)\n",
    "    random.shuffle(X_test)\n",
    "    random.shuffle(X_val)\n",
    "    return X_train,X_val,X_test"
   ]
  },
  {
   "cell_type": "code",
   "execution_count": 16,
   "id": "7386ff0a",
   "metadata": {},
   "outputs": [],
   "source": [
    "def process_image_label(path):\n",
    "    path=path.\n",
    "    \"\"\"Reading images\"\"\"\n",
    "    image=cv2.imread(path,cv2.IMREAD_COLOR)\n",
    "    image=cv2.resize(image, (hp[\"image_size\"], hp[\"image_size\"]))\n",
    "    image=image/255.0\n",
    "#   print(image.shape)\n",
    "    \n",
    "    \"\"\"Preprocessing to patches\"\"\"\n",
    "    patch_shape = (hp[\"patch_size\"], hp[\"patch_size\"], hp[\"num_channels\"])\n",
    "    patches = patchify(image, patch_shape, hp[\"patch_size\"])\n",
    "    #rint(patches.shape)\n",
    "    \n",
    "#     patches=np.reshape(patches, (196,16,16,3))\n",
    "#     for i in range(196):\n",
    "#         cv2.imwrite(f\"files/{i}.png\", patches[i])\n",
    "    patches = np.reshape(patches, hp[\"flat_patches_shape\"])\n",
    "    patches=patches.astype(np.float32)\n",
    "    \n",
    "    #rint(path)\n",
    "    class_name=path.split(\"\\\\\")[-2]\n",
    "    class_idx=hp[\"class_names\"].index(class_name)\n",
    "    class_idx=np.array(class_idx, dtype=np.int32)\n",
    "    return patches,class_idx"
   ]
  },
  {
   "cell_type": "code",
   "execution_count": 17,
   "id": "0bfb0705",
   "metadata": {},
   "outputs": [],
   "source": [
    "def parse(path):\n",
    "    patches, labels = tf.numpy_fuction(process_image_label, [path],[tf.float32, tf.int32])\n",
    "    labels=tf.one_hot(labels, hp[\"num_classes\"])\n",
    "    \n",
    "    patches.set_shape(hp[\"flat_patches_shape\"])\n",
    "    lables.set_shape(hp[\"num_classes\"])\n",
    "    \n",
    "    return patches, labels"
   ]
  },
  {
   "cell_type": "code",
   "execution_count": null,
   "id": "42e4e14b",
   "metadata": {},
   "outputs": [],
   "source": [
    "def tf_dataset(images, )"
   ]
  },
  {
   "cell_type": "code",
   "execution_count": 15,
   "id": "1bea45a0",
   "metadata": {},
   "outputs": [
    {
     "data": {
      "text/plain": [
       "(array([[0., 0., 0., ..., 0., 0., 0.],\n",
       "        [0., 0., 0., ..., 0., 0., 0.],\n",
       "        [0., 0., 0., ..., 0., 0., 0.],\n",
       "        ...,\n",
       "        [0., 0., 0., ..., 0., 0., 0.],\n",
       "        [0., 0., 0., ..., 0., 0., 0.],\n",
       "        [0., 0., 0., ..., 0., 0., 0.]], dtype=float32),\n",
       " 0)"
      ]
     },
     "execution_count": 15,
     "metadata": {},
     "output_type": "execute_result"
    }
   ],
   "source": [
    "np.random.seed(42)\n",
    "tf.random.set_seed(42)\n",
    "\n",
    "dataset_path=\"Data/Aug_data \"\n",
    "model_path=\"model/classification_model/model.h5\"\n",
    "csv_path=\"model/classification_model/log.csv\"\n",
    "\n",
    "X_train,X_val,X_test=load_data(\"Data\\\\Aug_data\")\n",
    "\n",
    "process_image_label(X_train[0])\n"
   ]
  },
  {
   "cell_type": "code",
   "execution_count": null,
   "id": "38ca9394",
   "metadata": {},
   "outputs": [],
   "source": []
  },
  {
   "cell_type": "code",
   "execution_count": 26,
   "id": "f724079b",
   "metadata": {},
   "outputs": [
    {
     "data": {
      "text/plain": [
       "(6356, 705, 783)"
      ]
     },
     "execution_count": 26,
     "metadata": {},
     "output_type": "execute_result"
    }
   ],
   "source": [
    "len(X_train),len(X_val),len(X_test)"
   ]
  },
  {
   "cell_type": "code",
   "execution_count": null,
   "id": "61a3735b",
   "metadata": {},
   "outputs": [],
   "source": []
  }
 ],
 "metadata": {
  "kernelspec": {
   "display_name": "rqa",
   "language": "python",
   "name": "rqa"
  },
  "language_info": {
   "codemirror_mode": {
    "name": "ipython",
    "version": 3
   },
   "file_extension": ".py",
   "mimetype": "text/x-python",
   "name": "python",
   "nbconvert_exporter": "python",
   "pygments_lexer": "ipython3",
   "version": "3.8.19"
  }
 },
 "nbformat": 4,
 "nbformat_minor": 5
}
