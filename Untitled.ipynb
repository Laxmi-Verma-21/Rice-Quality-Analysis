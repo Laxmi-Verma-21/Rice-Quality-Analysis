{
 "cells": [
  {
   "cell_type": "code",
   "execution_count": 1,
   "id": "64e5c594",
   "metadata": {},
   "outputs": [],
   "source": [
    "import os\n",
    "from glob import glob\n",
    "import cv2"
   ]
  },
  {
   "cell_type": "code",
   "execution_count": 13,
   "id": "a25c95b8-ce39-4e50-877f-f311f2769b72",
   "metadata": {},
   "outputs": [],
   "source": [
    "def rename_imgfile(directory):\n",
    "    image_list=os.listdir(directory)\n",
    "    new_name=1\n",
    "    for image in image_list:\n",
    "        os.rename(f\"{directory}\\{image}\",f\"{directory}\\{str(new_name)}.jpg\")\n",
    "        new_name+=1"
   ]
  },
  {
   "cell_type": "code",
   "execution_count": 15,
   "id": "ccc064e0-6a5a-4879-9bee-69c1963afce2",
   "metadata": {},
   "outputs": [],
   "source": [
    "path = \".\\data\"\n",
    "for rice_type in os.listdir(path):\n",
    "    directory = os.path.join(path,rice_type)\n",
    "    rename_imgfile(directory)"
   ]
  },
  {
   "cell_type": "code",
   "execution_count": null,
   "id": "1465c586-f581-42db-bbe7-847dd8d8dae1",
   "metadata": {},
   "outputs": [],
   "source": []
  }
 ],
 "metadata": {
  "kernelspec": {
   "display_name": "rqa",
   "language": "python",
   "name": "rqa"
  },
  "language_info": {
   "codemirror_mode": {
    "name": "ipython",
    "version": 3
   },
   "file_extension": ".py",
   "mimetype": "text/x-python",
   "name": "python",
   "nbconvert_exporter": "python",
   "pygments_lexer": "ipython3",
   "version": "3.8.19"
  }
 },
 "nbformat": 4,
 "nbformat_minor": 5
}
