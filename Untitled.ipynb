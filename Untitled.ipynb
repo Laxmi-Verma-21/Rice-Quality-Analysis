{
 "cells": [
  {
   "cell_type": "code",
   "execution_count": 9,
   "id": "64e5c594",
   "metadata": {},
   "outputs": [],
   "source": [
    "import os\n",
    "from glob import glob\n",
    "import cv2"
   ]
  },
  {
   "cell_type": "code",
   "execution_count": 13,
   "id": "a25c95b8-ce39-4e50-877f-f311f2769b72",
   "metadata": {},
   "outputs": [],
   "source": [
    "def rename_imgfile(directory):\n",
    "    image_list=os.listdir(directory)\n",
    "    new_name=1\n",
    "    for image in image_list:\n",
    "        os.rename(f\"{directory}\\{image}\",f\"{directory}\\{str(new_name)}.jpg\")\n",
    "        new_name+=1"
   ]
  },
  {
   "cell_type": "code",
   "execution_count": 15,
   "id": "ccc064e0-6a5a-4879-9bee-69c1963afce2",
   "metadata": {},
   "outputs": [],
   "source": [
    "path = \".\\data\"\n",
    "for rice_type in os.listdir(path):\n",
    "    directory = os.path.join(path,rice_type)\n",
    "    rename_imgfile(directory)"
   ]
  },
  {
   "cell_type": "code",
   "execution_count": 1,
   "id": "1465c586-f581-42db-bbe7-847dd8d8dae1",
   "metadata": {},
   "outputs": [
    {
     "name": "stdout",
     "output_type": "stream",
     "text": [
      "Collecting git+https://github.com/umang-singhal/pydom.git\n",
      "  Cloning https://github.com/umang-singhal/pydom.git to c:\\users\\pc-lenovo\\appdata\\local\\temp\\pip-req-build-pbfxv1of\n",
      "  Resolved https://github.com/umang-singhal/pydom.git to commit 2554af8d08a80658539f002eae58ece89cbcc6d4\n",
      "  Preparing metadata (setup.py): started\n",
      "  Preparing metadata (setup.py): finished with status 'done'\n",
      "Requirement already satisfied: numpy in c:\\users\\pc-lenovo\\anaconda3\\envs\\rqa\\lib\\site-packages (from pydom==0.1) (1.24.4)\n",
      "Requirement already satisfied: opencv-python in c:\\users\\pc-lenovo\\anaconda3\\envs\\rqa\\lib\\site-packages (from pydom==0.1) (4.10.0.84)\n",
      "Building wheels for collected packages: pydom\n",
      "  Building wheel for pydom (setup.py): started\n",
      "  Building wheel for pydom (setup.py): finished with status 'done'\n",
      "  Created wheel for pydom: filename=pydom-0.1-py3-none-any.whl size=18217 sha256=ec834cad17778e589452f82b6fa81f09ed78dadc8f742daeeb21a27eec01881e\n",
      "  Stored in directory: C:\\Users\\PC-LENOVO\\AppData\\Local\\Temp\\pip-ephem-wheel-cache-dwf8jbw6\\wheels\\5c\\45\\fd\\54f44f0200a08a7c678550a8714a1adc08ae27142c5f3c78af\n",
      "Successfully built pydom\n",
      "Installing collected packages: pydom\n",
      "Successfully installed pydom-0.1\n",
      "Note: you may need to restart the kernel to use updated packages.\n"
     ]
    },
    {
     "name": "stderr",
     "output_type": "stream",
     "text": [
      "  Running command git clone --filter=blob:none --quiet https://github.com/umang-singhal/pydom.git 'C:\\Users\\PC-LENOVO\\AppData\\Local\\Temp\\pip-req-build-pbfxv1of'\n"
     ]
    }
   ],
   "source": [
    "pip install git+https://github.com/umang-singhal/pydom.git"
   ]
  },
  {
   "cell_type": "code",
   "execution_count": 2,
   "id": "2d45a175-ce64-4ab6-b512-258b3af342b2",
   "metadata": {},
   "outputs": [],
   "source": [
    "from dom import DOM\n",
    "import cv2"
   ]
  },
  {
   "cell_type": "code",
   "execution_count": 3,
   "id": "308de144-889b-4ffa-838b-18418362616f",
   "metadata": {},
   "outputs": [],
   "source": [
    "img=cv2.imread(\"Data/Control Rice/1.jpg\")"
   ]
  },
  {
   "cell_type": "code",
   "execution_count": 4,
   "id": "33f6d229-1eec-4ced-9318-fcab5ba20264",
   "metadata": {},
   "outputs": [],
   "source": [
    "iqa= DOM()"
   ]
  },
  {
   "cell_type": "code",
   "execution_count": 6,
   "id": "a622ea88-0dd8-489d-81e7-b4870f9cf416",
   "metadata": {},
   "outputs": [],
   "source": [
    "score1=iqa.get_sharpness(img)"
   ]
  },
  {
   "cell_type": "code",
   "execution_count": 7,
   "id": "daba9fa6-ed78-459c-a1fb-5313a22502db",
   "metadata": {},
   "outputs": [
    {
     "data": {
      "text/plain": [
       "0.57632395469298"
      ]
     },
     "execution_count": 7,
     "metadata": {},
     "output_type": "execute_result"
    }
   ],
   "source": [
    "score1"
   ]
  },
  {
   "cell_type": "code",
   "execution_count": 5,
   "id": "cec810fb-f7e4-4a52-8c56-719315f0d138",
   "metadata": {},
   "outputs": [],
   "source": [
    "import numpy as np\n",
    "from skimage import io, img_as_float\n",
    "import imquality.brisque as brisque"
   ]
  },
  {
   "cell_type": "code",
   "execution_count": 6,
   "id": "5b372601-5845-4595-b8e5-6913e8475d5f",
   "metadata": {},
   "outputs": [],
   "source": [
    "img=img_as_float(io.imread(\"Data/Control Rice/1.jpg\", as_gray=True))"
   ]
  },
  {
   "cell_type": "code",
   "execution_count": null,
   "id": "0ac504cc-aa6c-4a92-8bc8-5d4ea743b41f",
   "metadata": {},
   "outputs": [],
   "source": [
    "import pybrisque improt BRISQUE\n",
    "image=cv2.imread(\"Data\\Control Rice\\1.jpg\")\n",
    "img_gray=cv2.cvtColor(img,cv2.COLOR_BGR2GRAY)!\n",
    "brisque=BRISQUE()\n"
   ]
  },
  {
   "cell_type": "code",
   "execution_count": 16,
   "id": "76f03ee6-70cd-4123-8d3a-53919c93a8ef",
   "metadata": {},
   "outputs": [
    {
     "name": "stdout",
     "output_type": "stream",
     "text": [
      "Collecting pybrisque\n",
      "  Downloading pybrisque-1.0.tar.gz (136 kB)\n",
      "  Preparing metadata (setup.py): started\n",
      "  Preparing metadata (setup.py): finished with status 'done'\n",
      "Requirement already satisfied: numpy in c:\\users\\pc-lenovo\\anaconda3\\envs\\rqa\\lib\\site-packages (from pybrisque) (1.24.4)\n",
      "Requirement already satisfied: scipy in c:\\users\\pc-lenovo\\anaconda3\\envs\\rqa\\lib\\site-packages (from pybrisque) (1.10.1)\n",
      "Requirement already satisfied: opencv-python in c:\\users\\pc-lenovo\\anaconda3\\envs\\rqa\\lib\\site-packages (from pybrisque) (4.10.0.84)\n",
      "Requirement already satisfied: libsvm in c:\\users\\pc-lenovo\\anaconda3\\envs\\rqa\\lib\\site-packages (from pybrisque) (3.23.0.4)\n",
      "Building wheels for collected packages: pybrisque\n",
      "  Building wheel for pybrisque (setup.py): started\n",
      "  Building wheel for pybrisque (setup.py): finished with status 'done'\n",
      "  Created wheel for pybrisque: filename=pybrisque-1.0-py3-none-any.whl size=136203 sha256=6519cc7bb4182490eecc3ace23ee60876c6d46af0b4daf04452b36d7076b51d0\n",
      "  Stored in directory: c:\\users\\pc-lenovo\\appdata\\local\\pip\\cache\\wheels\\42\\ab\\2d\\23889bddbf7f66653e4fbd1ceec02eb99c090ef50f3b12da9a\n",
      "Successfully built pybrisque\n",
      "Installing collected packages: pybrisque\n",
      "Successfully installed pybrisque-1.0\n",
      "Note: you may need to restart the kernel to use updated packages.\n"
     ]
    }
   ],
   "source": [
    "pip install pybrisque"
   ]
  },
  {
   "cell_type": "code",
   "execution_count": 7,
   "id": "c3bd0d7c-6efb-475c-b3bb-99a448cf370d",
   "metadata": {},
   "outputs": [
    {
     "name": "stderr",
     "output_type": "stream",
     "text": [
      "C:\\Users\\PC-LENOVO\\anaconda3\\envs\\RQA\\lib\\site-packages\\imquality\\brisque.py:45: FutureWarning: The behavior of rgb2gray will change in scikit-image 0.19. Currently, rgb2gray allows 2D grayscale image to be passed as inputs and leaves them unmodified as outputs. Starting from version 0.19, 2D arrays will be treated as 1D images with 3 channels.\n",
      "  self.image = skimage.color.rgb2gray(self.image)\n",
      "C:\\Users\\PC-LENOVO\\anaconda3\\envs\\RQA\\lib\\site-packages\\imquality\\brisque.py:45: FutureWarning: The behavior of rgb2gray will change in scikit-image 0.19. Currently, rgb2gray allows 2D grayscale image to be passed as inputs and leaves them unmodified as outputs. Starting from version 0.19, 2D arrays will be treated as 1D images with 3 channels.\n",
      "  self.image = skimage.color.rgb2gray(self.image)\n"
     ]
    }
   ],
   "source": [
    "score=brisque.score(img)"
   ]
  },
  {
   "cell_type": "code",
   "execution_count": 8,
   "id": "2dc90507",
   "metadata": {},
   "outputs": [
    {
     "data": {
      "text/plain": [
       "62.16747016047904"
      ]
     },
     "execution_count": 8,
     "metadata": {},
     "output_type": "execute_result"
    }
   ],
   "source": [
    "score"
   ]
  },
  {
   "cell_type": "code",
   "execution_count": 18,
   "id": "31e88d2c",
   "metadata": {},
   "outputs": [],
   "source": [
    "from PIL import Image\n",
    "img=Image.open(\"Data/Control Rice/1.jpg\")\n",
    "new_size=(512,512)\n",
    "resized_image=img.resize(new_size)\n",
    "resized_image.save(\"Resize image/Control Rice/1.jpg\")"
   ]
  },
  {
   "cell_type": "code",
   "execution_count": 28,
   "id": "3dfa67da",
   "metadata": {},
   "outputs": [],
   "source": [
    "input_dir=\"Data\"\n",
    "output_dir=\"Resize image\"\n",
    "for rice_type in os.listdir(input_dir):\n",
    "    dire=os.path.join(input_dir,rice_type)\n",
    "    img_list=os.listdir(dire)\n",
    "    for image in img_list:\n",
    "        file_dir=os.path.join(dire,image)\n",
    "        img=Image.open(str(file_dir))\n",
    "        \n",
    "        resized_image=img.resize((512,512))\n",
    "        resized_image.save(f\"{output_dir}\\{rice_type}\\{image}\")"
   ]
  },
  {
   "cell_type": "code",
   "execution_count": 1,
   "id": "447ccf5a",
   "metadata": {},
   "outputs": [
    {
     "name": "stdout",
     "output_type": "stream",
     "text": [
      "Num GPUs Available:  1\n"
     ]
    }
   ],
   "source": [
    "import tensorflow as tf\n",
    "print(\"Num GPUs Available: \", len(tf.config.list_physical_devices('GPU')))"
   ]
  },
  {
   "cell_type": "code",
   "execution_count": 2,
   "id": "431b7335",
   "metadata": {},
   "outputs": [
    {
     "data": {
      "text/plain": [
       "[PhysicalDevice(name='/physical_device:GPU:0', device_type='GPU')]"
      ]
     },
     "execution_count": 2,
     "metadata": {},
     "output_type": "execute_result"
    }
   ],
   "source": [
    "tf.config.list_physical_devices('GPU')"
   ]
  },
  {
   "cell_type": "code",
   "execution_count": null,
   "id": "1076c63d",
   "metadata": {},
   "outputs": [],
   "source": []
  }
 ],
 "metadata": {
  "kernelspec": {
   "display_name": "rqa",
   "language": "python",
   "name": "rqa"
  },
  "language_info": {
   "codemirror_mode": {
    "name": "ipython",
    "version": 3
   },
   "file_extension": ".py",
   "mimetype": "text/x-python",
   "name": "python",
   "nbconvert_exporter": "python",
   "pygments_lexer": "ipython3",
   "version": "3.8.19"
  }
 },
 "nbformat": 4,
 "nbformat_minor": 5
}
